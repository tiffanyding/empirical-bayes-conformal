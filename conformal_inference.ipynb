{
 "cells": [
  {
   "cell_type": "code",
   "execution_count": 1,
   "metadata": {},
   "outputs": [],
   "source": [
    "import matplotlib.pyplot as plt\n",
    "import numpy as np\n",
    "import pandas as pd\n",
    "import scipy.stats "
   ]
  },
  {
   "cell_type": "markdown",
   "metadata": {},
   "source": [
    "# TODOs\n",
    "1. Think about coverage guarantee proof\n",
    "1. Implement naive class-balanced conformal inference\n",
    "1. Write method to compute class-specific coverage"
   ]
  },
  {
   "cell_type": "markdown",
   "metadata": {},
   "source": [
    "## Generate synthetic data\n",
    "\n",
    "Data generation procedure: Mixture of Gaussians\n",
    "\n",
    "### Phase I:\n",
    "1. Randomly select a class $Y_i$ with probability determined by `P_Y`\n",
    "2. Select the corresponding mean $\\mu$ given by `means`\n",
    "3. Sample $X_i \\sim N(\\mu, 1)$\n",
    "4. Repeat steps 1-3 `num_samples` number of times\n",
    "\n",
    "### Phase II:\n",
    "1. Compute $P(Y = k |X_i) = \\frac{P(X_i | Y = k)P(Y_i = k)}{P(X_i)}$\n",
    "2. Define score = $P(Y = \\mathsf{truelabel} |X_i)$"
   ]
  },
  {
   "cell_type": "code",
   "execution_count": 2,
   "metadata": {},
   "outputs": [],
   "source": [
    "def generate_synthetic_data(num_samples):\n",
    "    '''\n",
    "    Returns \n",
    "        - true_labels: num_samples length vector\n",
    "        - class_probs: num_samples x 5 array containing P(Y_i = k | X_i) for each class k\n",
    "    '''\n",
    "\n",
    "    # --- Phase I ---\n",
    "    # Generate mixture of five 1-D Gaussians\n",
    "    means = np.array([0, 2, 3, 8, 10]) # Element i specifies the mean of class i\n",
    "    std_devs = np.ones((len(means),))\n",
    "    P_Y = np.array([.2, .1, .5, .15, .05]) # class probabilities \n",
    "\n",
    "    num_classes = len(means)\n",
    "\n",
    "    # Select true labels randomly according to P_Y\n",
    "    true_labels = np.random.choice(np.arange(num_classes), num_samples, p=P_Y)\n",
    "    # Simulate values from corresponding Gaussians\n",
    "    X = np.random.normal(loc=means[true_labels], scale=std_devs[true_labels], size=(num_samples,))\n",
    "    \n",
    "    # --- Phase II ---\n",
    "    # Compute vector P(Y|X_i) for each X_i\n",
    "    class_probs = np.zeros((num_samples, num_classes))\n",
    "    for k in range(num_classes):\n",
    "        P_X_given_Y = scipy.stats.norm(loc=means[k], scale=std_devs[k]).pdf(X)\n",
    "        class_probs[:,k] = P_X_given_Y * P_Y[k] # P(Y and X_i)\n",
    "\n",
    "    # Normalize each row to get P(Y and X_i) / P(X_i) = P(Y|X_i)\n",
    "    class_probs = class_probs / np.expand_dims(np.sum(class_probs, axis=1), axis=1)\n",
    "    \n",
    "    return true_labels, class_probs"
   ]
  },
  {
   "cell_type": "code",
   "execution_count": 3,
   "metadata": {},
   "outputs": [],
   "source": [
    "np.random.seed(0)\n",
    "\n",
    "# Generate calibration data\n",
    "calibration_data_size = 1000\n",
    "cal_true_labels, cal_class_probs = generate_synthetic_data(calibration_data_size)\n",
    "\n",
    "# Generate testing data\n",
    "test_data_size = 10000\n",
    "test_true_labels, test_class_probs = generate_synthetic_data(test_data_size)"
   ]
  },
  {
   "cell_type": "markdown",
   "metadata": {},
   "source": [
    "# Standard conformal inference"
   ]
  },
  {
   "cell_type": "code",
   "execution_count": 4,
   "metadata": {},
   "outputs": [],
   "source": [
    "def compute_qhat(class_probs, true_labels, alpha=.05, plot_scores=False):\n",
    "    '''\n",
    "    Coverage level will be (1-alpha)\n",
    "    '''\n",
    "    # Select scores that correspond to correct label\n",
    "    scores = np.squeeze(np.take_along_axis(class_probs, np.expand_dims(true_labels, axis=1), axis=1))\n",
    "    \n",
    "    # Sort scores\n",
    "    scores = np.sort(scores)\n",
    "\n",
    "    # Identify score q_hat such that ~(1-alpha) fraction of scores are below qhat \n",
    "    #    Note: More precisely, it is (1-alpha) times a small correction factor\n",
    "    n = len(true_labels)\n",
    "    q_hat = -np.quantile(-scores, np.ceil((n+1)*(1-alpha))/n)\n",
    "    \n",
    "    # Plot score distribution\n",
    "    if plot_scores:\n",
    "        plt.hist(scores)\n",
    "        plt.title('Score distribution')\n",
    "        plt.show()\n",
    "    \n",
    "    return q_hat"
   ]
  },
  {
   "cell_type": "code",
   "execution_count": 5,
   "metadata": {
    "scrolled": true
   },
   "outputs": [
    {
     "data": {
      "image/png": "[encoded data removed]",
      "text/plain": [
       "<Figure size 432x288 with 1 Axes>"
      ]
     },
     "metadata": {
      "needs_background": "light"
     },
     "output_type": "display_data"
    },
    {
     "name": "stdout",
     "output_type": "stream",
     "text": [
      "q_hat: 0.11895560116923032\n"
     ]
    }
   ],
   "source": [
    "# Compute quantile \n",
    "q_hat = compute_qhat(cal_class_probs, cal_true_labels, alpha=.05, plot_scores=True)\n",
    "print('q_hat:', q_hat)"
   ]
  },
  {
   "cell_type": "markdown",
   "metadata": {},
   "source": [
    "### Evaluate "
   ]
  },
  {
   "cell_type": "code",
   "execution_count": 6,
   "metadata": {},
   "outputs": [],
   "source": [
    "# Create prediction sets\n",
    "def create_prediction_sets(class_probs, q_hat):\n",
    "    assert(not hasattr(q_hat, '__iter__')) # q_hat should be a single number and not a list/array\n",
    "    set_preds = []\n",
    "    num_samples = len(class_probs)\n",
    "    for i in range(num_samples):\n",
    "        set_preds.append(np.where(class_probs[i,:] > q_hat)[0])\n",
    "        \n",
    "    return set_preds\n",
    "\n",
    "# Helper function for computing accuracy (marginal coverage) of confidence sets\n",
    "def compute_coverage(true_labels, set_preds):\n",
    "    num_correct = 0\n",
    "    for true_label, preds in zip(true_labels, set_preds):\n",
    "        if true_label in preds:\n",
    "            num_correct += 1\n",
    "    set_pred_acc = num_correct / len(true_labels)\n",
    "    \n",
    "    return set_pred_acc\n",
    "\n",
    "# Helper function for computing class-specific coverage of confidence sets\n",
    "def compute_class_specific_coverage(true_labels, set_preds):\n",
    "    num_classes = max(true_labels) + 1\n",
    "    class_specific_cov = np.zeros((num_classes,))\n",
    "    for k in range(num_classes):\n",
    "        idx = np.where(true_labels == k)[0]\n",
    "        selected_preds = [set_preds[i] for i in idx]\n",
    "        num_correct = np.sum([1 if np.any(pred_set == k) else 0 for pred_set in selected_preds])\n",
    "        class_specific_cov[k] = num_correct / len(selected_preds)\n",
    "        \n",
    "    return class_specific_cov\n"
   ]
  },
  {
   "cell_type": "markdown",
   "metadata": {},
   "source": [
    "First, sanity check by evaluating coverage on calibration set (confidence sets should have accuracy very close to 1-alpha)"
   ]
  },
  {
   "cell_type": "code",
   "execution_count": 7,
   "metadata": {},
   "outputs": [
    {
     "name": "stdout",
     "output_type": "stream",
     "text": [
      "====== Using calibration set =======\n",
      "Point prediction accuracy: 83.60%\n",
      "Confidence set \"marginal coverage\": 95.10%\n",
      "Confidence set \"class specific coverage\": [0.945      0.71962617 0.98979592 0.99315068 0.96491228]\n"
     ]
    }
   ],
   "source": [
    "print('====== Using calibration set =======')\n",
    "\n",
    "# Point prediction accuracy (e.g., accuracy when we only predict a single class)\n",
    "point_preds = np.argmax(cal_class_probs, axis=1)\n",
    "point_pred_acc = np.mean(point_preds == cal_true_labels)\n",
    "print(f'Point prediction accuracy: {point_pred_acc*100:.2f}%')\n",
    "\n",
    "# Set prediction accuracy\n",
    "cal_set_preds = create_prediction_sets(cal_class_probs, q_hat)\n",
    "# i) Marginal coverage\n",
    "marginal_cov = compute_coverage(cal_true_labels, cal_set_preds)\n",
    "print(f'Confidence set \"marginal coverage\": {marginal_cov*100:.2f}%')\n",
    "# ii) Class-specific coverage\n",
    "class_specific_cov = compute_class_specific_coverage(cal_true_labels, cal_set_preds)\n",
    "print(f'Confidence set \"class specific coverage\": {class_specific_cov}')\n"
   ]
  },
  {
   "cell_type": "code",
   "execution_count": 8,
   "metadata": {},
   "outputs": [
    {
     "data": {
      "image/png": "[encoded data removed]",
      "text/plain": [
       "<Figure size 432x288 with 1 Axes>"
      ]
     },
     "metadata": {
      "needs_background": "light"
     },
     "output_type": "display_data"
    }
   ],
   "source": [
    "# Plot average set size for set predictions\n",
    "set_sizes = [len(preds) for preds in cal_set_preds]\n",
    "plt.hist(set_sizes, bins=range(1,6))\n",
    "plt.xlabel('Set size')\n",
    "plt.ylabel('Count')\n",
    "plt.title('Distribution of prediction set sizes')\n",
    "plt.show()"
   ]
  },
  {
   "cell_type": "markdown",
   "metadata": {},
   "source": [
    "Now test on actual test set"
   ]
  },
  {
   "cell_type": "code",
   "execution_count": 9,
   "metadata": {},
   "outputs": [
    {
     "name": "stdout",
     "output_type": "stream",
     "text": [
      "====== Using test set =======\n",
      "Point prediction accuracy: 82.74%\n",
      "Confidence set \"marginal coverage\": 95.73%\n",
      "Confidence set \"class specific coverage\": [0.96146435 0.75122429 0.99034982 0.98982361 0.93406593]\n"
     ]
    }
   ],
   "source": [
    "print('====== Using test set =======')\n",
    "\n",
    "# Point prediction accuracy (e.g., accuracy when we only predict a single class)\n",
    "point_preds = np.argmax(test_class_probs, axis=1)\n",
    "point_pred_acc = np.mean(point_preds == test_true_labels)\n",
    "print(f'Point prediction accuracy: {point_pred_acc*100:.2f}%')\n",
    "\n",
    "\n",
    "# Set prediction accuracy\n",
    "set_preds = create_prediction_sets(test_class_probs, q_hat)\n",
    "# i) Marginal coverage\n",
    "marginal_cov = compute_coverage(test_true_labels, set_preds)\n",
    "print(f'Confidence set \"marginal coverage\": {marginal_cov*100:.2f}%')\n",
    "# ii) Class-specific coverage\n",
    "class_specific_cov = compute_class_specific_coverage(test_true_labels, set_preds)\n",
    "print(f'Confidence set \"class specific coverage\": {class_specific_cov}')"
   ]
  },
  {
   "cell_type": "markdown",
   "metadata": {},
   "source": [
    "# How does coverage change with size of calibration set?\n",
    "(Using standard conformal inference)\n",
    "\n",
    "Variance of coverage should track variance of q_hat"
   ]
  },
  {
   "cell_type": "code",
   "execution_count": 10,
   "metadata": {},
   "outputs": [],
   "source": [
    "# Use \"infinite\" (very large) test set for evaluating coverage\n",
    "test_data_size = 10000\n",
    "test_true_labels, test_class_probs = generate_synthetic_data(test_data_size)"
   ]
  },
  {
   "cell_type": "code",
   "execution_count": 11,
   "metadata": {},
   "outputs": [
    {
     "data": {
      "image/png": "[encoded data removed]",
      "text/plain": [
       "<Figure size 720x864 with 8 Axes>"
      ]
     },
     "metadata": {
      "needs_background": "light"
     },
     "output_type": "display_data"
    }
   ],
   "source": [
    "cal_set_sizes = [50, 100, 500, 1000]\n",
    "num_trials = 100\n",
    "alpha = 0.5\n",
    "fig, ax = plt.subplots(len(cal_set_sizes),2, figsize=(10, len(cal_set_sizes)*3))\n",
    "\n",
    "qhat_sds = np.zeros(len(cal_set_sizes),)\n",
    "coverage_sds = np.zeros(len(cal_set_sizes),)\n",
    "for j, num_samples in enumerate(cal_set_sizes):\n",
    "    q_hat_list = np.zeros(num_trials,)\n",
    "    coverage_list = np.zeros(num_trials,)\n",
    "    for i in range(num_trials):\n",
    "        cal_true_labels, cal_class_probs = generate_synthetic_data(num_samples)\n",
    "        q_hat_list[i] = compute_qhat(cal_class_probs, cal_true_labels, alpha=alpha)\n",
    "        set_preds = create_prediction_sets(test_class_probs, q_hat_list[i])\n",
    "        coverage_list[i] = compute_coverage(test_true_labels, set_preds)\n",
    "        \n",
    "    # Compute standard deviations\n",
    "    qhat_sds[j] = np.std(q_hat_list)\n",
    "    coverage_sds[j] = np.std(coverage_list)\n",
    "    \n",
    "    # Plot\n",
    "    # Force each column to use the same histogram bins\n",
    "    if j == 0:\n",
    "        xlims_qhat = None\n",
    "        xlims_cov = None\n",
    "    else:\n",
    "        xlims_qhat = ax[0,0].get_xlim()\n",
    "        xlims_cov = ax[0,1].get_xlim()\n",
    "    ax[j,0].hist(q_hat_list, range=xlims_qhat, color='teal')\n",
    "    ax[j,0].set_title(f'q_hat (n={num_samples}) | sd={qhat_sds[j]:.3f}')\n",
    "    ax[j,1].hist(coverage_list, range=xlims_cov)\n",
    "    ax[j,1].set_title(f'Coverage (n={num_samples}) | sd={coverage_sds[j]:.3f}')\n",
    "\n",
    "\n",
    "# ax[0,0].get_shared_x_axes().join(*ax[:,0])\n",
    "# ax[0,1].get_shared_x_axes().join(*ax[:,1])\n",
    "\n",
    "plt.tight_layout()\n",
    "plt.show()"
   ]
  },
  {
   "cell_type": "code",
   "execution_count": 12,
   "metadata": {},
   "outputs": [
    {
     "data": {
      "image/png": "[encoded data removed]",
      "text/plain": [
       "<Figure size 720x288 with 2 Axes>"
      ]
     },
     "metadata": {
      "needs_background": "light"
     },
     "output_type": "display_data"
    }
   ],
   "source": [
    "# Plot standard deviations vs. size of calibration set\n",
    "fig, ax = plt.subplots(1, 2, figsize=(10, 4))\n",
    "\n",
    "ax[0].scatter(cal_set_sizes, qhat_sds * np.sqrt(cal_set_sizes))\n",
    "ax[0].set_xlabel('Size of calibration set')\n",
    "ax[0].set_ylabel('Standard deviation')\n",
    "ax[0].set_title('qhat')\n",
    "\n",
    "ax[1].scatter(cal_set_sizes, coverage_sds)\n",
    "ax[1].set_xlabel('Size of calibration set')\n",
    "ax[1].set_ylabel('Standard deviation')\n",
    "ax[1].set_title('Coverage')\n",
    "plt.show()"
   ]
  },
  {
   "cell_type": "markdown",
   "metadata": {},
   "source": [
    "# Naive class-balanced conformal inference\n",
    "\n",
    "Procedure:\n",
    "1. Partition calibration dataset based on true label\n",
    "1. Estimate class-specific quantile using corresponding partition of the dataset\n",
    "1. To create a confidence set, include a class in the set if its score exceeds the corresponding class-specific quantile"
   ]
  },
  {
   "cell_type": "code",
   "execution_count": 13,
   "metadata": {},
   "outputs": [],
   "source": [
    "np.random.seed(0)\n",
    "\n",
    "# Generate calibration data\n",
    "calibration_data_size = 10000\n",
    "cal_true_labels, cal_class_probs = generate_synthetic_data(calibration_data_size)\n",
    "\n",
    "# Generate testing data\n",
    "test_data_size = 10000\n",
    "test_true_labels, test_class_probs = generate_synthetic_data(test_data_size)"
   ]
  },
  {
   "cell_type": "code",
   "execution_count": 21,
   "metadata": {},
   "outputs": [
    {
     "name": "stdout",
     "output_type": "stream",
     "text": [
      "q_hats: [0.17688255 0.05033141 0.45056126 0.42192517 0.0770898 ]\n"
     ]
    }
   ],
   "source": [
    "def compute_class_specific_quantiles(cal_true_labels, cal_class_probs, alpha=.05):\n",
    "    num_samples = len(cal_true_labels)\n",
    "    q_hats = np.zeros((5,)) # q_hats[i] = quantile for class i\n",
    "    for k in range(cal_class_probs.shape[1]):\n",
    "        # Only select data for which k is true class\n",
    "        idx = (cal_true_labels == k)\n",
    "        scores = cal_class_probs[idx, k]\n",
    "        scores = np.sort(scores)\n",
    "        q_hats[k] = -np.quantile(-scores, np.ceil((num_samples+1)*(1-alpha))/num_samples)\n",
    "        \n",
    "    return q_hats\n",
    "    \n",
    "q_hats = compute_class_specific_quantiles(cal_true_labels, cal_class_probs, alpha=.05)\n",
    "print('q_hats:', q_hats)"
   ]
  },
  {
   "cell_type": "code",
   "execution_count": 15,
   "metadata": {},
   "outputs": [],
   "source": [
    "# Create class_balanced prediction sets\n",
    "def create_cb_prediction_sets(class_probs, q_hats):\n",
    "    set_preds = []\n",
    "    num_samples = len(class_probs)\n",
    "    for i in range(num_samples):\n",
    "#         print(class_probs, q_hats)\n",
    "#         print(np.where(class_probs[i,:] > q_hats)[0])\n",
    "        set_preds.append(np.where(class_probs[i,:] > q_hats)[0])\n",
    "        \n",
    "    return set_preds"
   ]
  },
  {
   "cell_type": "code",
   "execution_count": 16,
   "metadata": {},
   "outputs": [
    {
     "name": "stdout",
     "output_type": "stream",
     "text": [
      "====== Using calibration set =======\n",
      "Point prediction accuracy: 83.72%\n",
      "Confidence set \"marginal coverage\": 95.01%\n",
      "Confidence set \"class specific coverage\": [0.95679612 0.69547739 0.98914136 0.99052774 0.92105263]\n",
      "Class-balanced confidence set \"marginal coverage\": 95.08%\n",
      "Class-balanced confidence set \"class specific coverage\": [0.95097087 0.95075377 0.95093505 0.95060893 0.94939271]\n"
     ]
    }
   ],
   "source": [
    "print('====== Using calibration set =======')\n",
    "\n",
    "# Point prediction accuracy (e.g., accuracy when we only predict a single class)\n",
    "point_preds = np.argmax(cal_class_probs, axis=1)\n",
    "point_pred_acc = np.mean(point_preds == cal_true_labels)\n",
    "print(f'Point prediction accuracy: {point_pred_acc*100:.2f}%')\n",
    "\n",
    "# Set prediction accuracy\n",
    "q_hat = compute_qhat(cal_class_probs, cal_true_labels, alpha=.05)\n",
    "set_preds = create_prediction_sets(cal_class_probs, q_hat)\n",
    "# i) Marginal coverage\n",
    "marginal_cov = compute_coverage(cal_true_labels, set_preds)\n",
    "print(f'Confidence set \"marginal coverage\": {marginal_cov*100:.2f}%')\n",
    "# ii) Class-specific coverage\n",
    "class_specific_cov = compute_class_specific_coverage(cal_true_labels, set_preds)\n",
    "print(f'Confidence set \"class specific coverage\": {class_specific_cov}')\n",
    "\n",
    "# Class-balanced set prediction accuracy\n",
    "set_preds = create_cb_prediction_sets(cal_class_probs, q_hats)\n",
    "# i) Marginal coverage\n",
    "marginal_cov = compute_coverage(cal_true_labels, set_preds)\n",
    "print(f'Class-balanced confidence set \"marginal coverage\": {marginal_cov*100:.2f}%')\n",
    "# ii) Class-specific coverage\n",
    "class_specific_cov = compute_class_specific_coverage(cal_true_labels, set_preds)\n",
    "print(f'Class-balanced confidence set \"class specific coverage\": {class_specific_cov}')"
   ]
  },
  {
   "cell_type": "markdown",
   "metadata": {},
   "source": [
    "# Empirical Bayes class-balanced conformal inference"
   ]
  },
  {
   "cell_type": "code",
   "execution_count": 17,
   "metadata": {},
   "outputs": [],
   "source": [
    "# TODO "
   ]
  },
  {
   "cell_type": "code",
   "execution_count": null,
   "metadata": {},
   "outputs": [],
   "source": []
  }
 ],
 "metadata": {
  "kernelspec": {
   "display_name": "wiki_env",
   "language": "python",
   "name": "wiki_env"
  },
  "language_info": {
   "codemirror_mode": {
    "name": "ipython",
    "version": 3
   },
   "file_extension": ".py",
   "mimetype": "text/x-python",
   "name": "python",
   "nbconvert_exporter": "python",
   "pygments_lexer": "ipython3",
   "version": "3.7.4"
  }
 },
 "nbformat": 4,
 "nbformat_minor": 4
}
