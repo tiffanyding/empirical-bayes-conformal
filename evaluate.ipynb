{
 "cells": [
  {
   "cell_type": "code",
   "execution_count": 38,
   "id": "b09e7aff",
   "metadata": {},
   "outputs": [
    {
     "name": "stdout",
     "output_type": "stream",
     "text": [
      "The autoreload extension is already loaded. To reload it, use:\n",
      "  %reload_ext autoreload\n"
     ]
    }
   ],
   "source": [
    "import matplotlib.pyplot as plt\n",
    "import numpy as np\n",
    "import torch\n",
    "\n",
    "from conformal_utils import *\n",
    "\n",
    "%load_ext autoreload\n",
    "%autoreload 2"
   ]
  },
  {
   "cell_type": "markdown",
   "id": "8f3bd7ca",
   "metadata": {},
   "source": [
    "### Inputs\n",
    "1. Class-specific qhats\n",
    "2. Conformal scores (e.g., softmax vectors) and ground truth labels to evaluate on "
   ]
  },
  {
   "cell_type": "code",
   "execution_count": 49,
   "id": "6581dfcd",
   "metadata": {},
   "outputs": [],
   "source": [
    "qhats = np.load('.cache/quantiles_06-08-22.npy') # qhats estimated using oracle prior"
   ]
  },
  {
   "cell_type": "code",
   "execution_count": 22,
   "id": "cb69bdd8",
   "metadata": {},
   "outputs": [],
   "source": [
    "# qhats_old = np.load('.cache/quantiles_06-02-22.npy') # messed up qhats that switched softmax and 1-softmax"
   ]
  },
  {
   "cell_type": "code",
   "execution_count": 50,
   "id": "9f1362f6",
   "metadata": {
    "scrolled": false
   },
   "outputs": [
    {
     "data": {
      "text/plain": [
       "array([0.892691  , 0.96158587, 0.98572446, 0.9812934 , 0.98181163,\n",
       "       0.99416356, 0.97768944, 0.99223261, 0.98411883, 0.83389078,\n",
       "       0.91399732, 0.92164012, 0.98277134, 0.96003558, 0.92146319,\n",
       "       0.90779244, 0.89700984, 0.87886161, 0.97409526, 0.94826642,\n",
       "       0.96581401, 0.94976646, 0.90863292, 0.95302781, 0.79943146,\n",
       "       0.99314568, 0.98507472, 0.97785348, 0.94306061, 0.93575642,\n",
       "       0.96194235, 0.99020021, 0.96511262, 0.98325587, 0.99863174,\n",
       "       0.99179097, 0.99859864, 0.94672638, 0.99083562, 0.96691105,\n",
       "       0.97705835, 0.94982093, 0.95733696, 0.99309698, 0.99509524,\n",
       "       0.92884617, 0.99111028, 0.93630998, 0.93749459, 0.99026585,\n",
       "       0.97096321, 0.79790425, 0.99123886, 0.98345316, 0.99626202,\n",
       "       0.99827646, 0.96614657, 0.97827529, 0.98666376, 0.99122958,\n",
       "       0.99535558, 0.97575003, 0.99950002, 0.94385616, 0.9806834 ,\n",
       "       0.98246941, 0.9999255 , 0.99097413, 0.99641147, 0.97936353,\n",
       "       0.9162958 , 0.95109877, 0.97010071, 0.99998462, 0.99912054,\n",
       "       0.9378275 , 0.91891804, 0.95322839, 0.97619073, 0.93831242,\n",
       "       0.99925004, 0.87499723, 0.99413087, 0.98282854, 0.93439854,\n",
       "       0.99337384, 0.9990801 , 0.96459566, 0.98732638, 0.88088241,\n",
       "       0.95584826, 0.85014582, 0.88425954, 0.95964408, 0.91902584,\n",
       "       0.85644537, 0.9819493 , 0.79572752, 0.98751411, 0.970722  ,\n",
       "       0.91312289, 0.99788804, 0.82602163, 0.86835153, 0.89123173,\n",
       "       0.91717189, 0.81798795, 0.98224   , 0.98665916, 0.95648401,\n",
       "       0.89720411, 0.84937535, 0.99438983, 0.98643267, 0.99233968,\n",
       "       0.86231423, 0.82954822, 0.80883837, 0.9974188 , 0.99039814,\n",
       "       0.99757575, 0.99198665, 0.98170234, 0.96270812, 0.99162795,\n",
       "       0.93825074, 0.94084665, 0.946529  , 0.98260991, 0.97877936,\n",
       "       0.88516086, 0.93174846, 0.97263714, 0.93002954, 0.96592937,\n",
       "       0.79040797, 0.79921666, 0.93118641, 0.81410689, 0.92611812,\n",
       "       0.96394683, 0.95692291, 0.93864555, 0.97224696, 0.92754318,\n",
       "       0.80698005, 0.94331408, 0.96334077, 0.91755916, 0.92579764,\n",
       "       0.98784555, 0.99232936, 0.99395681, 0.9841985 , 0.89777962,\n",
       "       0.97704755, 0.99044627, 0.9927421 , 0.99911296, 0.98184616,\n",
       "       0.97087546, 0.96766905, 0.99836893, 0.99269149, 0.9975128 ,\n",
       "       0.99901217, 0.99823039, 0.99730863, 0.99562839, 0.99039917,\n",
       "       0.99799906, 0.9988026 , 0.98587559, 0.99120928, 0.99923689,\n",
       "       0.99994576, 0.98767649, 0.98206014, 0.99222252, 0.99792721,\n",
       "       0.99947471, 0.97257134, 0.94915944, 0.89179125, 0.99289756,\n",
       "       0.99689962, 0.99069838, 0.97943185, 0.98864346, 0.99768415,\n",
       "       0.98592112, 0.99735652, 0.9957909 , 0.99820573, 0.99681692,\n",
       "       0.95799864, 0.97539138, 0.97721707, 0.99467959, 0.98643257,\n",
       "       0.99814791, 0.99611032, 0.99602721, 0.99106918, 0.99774542,\n",
       "       0.97694667, 0.99654297, 0.97807209, 0.99977468, 0.9982248 ,\n",
       "       0.94185366, 0.99279022, 0.99672169, 0.94272709, 0.99321259,\n",
       "       0.9935015 , 0.92293003, 0.99461254, 0.99065634, 0.99075272,\n",
       "       0.99943117, 0.99670137, 0.99698861, 0.99721386, 0.99972412,\n",
       "       0.9965752 , 0.9933311 , 0.99805368, 0.97903397, 0.97962021,\n",
       "       0.9977171 , 0.99893914, 0.98939807, 0.99333739, 0.97400831,\n",
       "       0.98662979, 0.98294192, 0.99244886, 0.99303611, 0.98952589,\n",
       "       0.99856295, 0.99918639, 0.99317107, 0.98454231, 0.89905141,\n",
       "       0.97782119, 0.99801986, 0.98378956, 0.99827839, 0.99645388,\n",
       "       0.99589687, 0.91219702, 0.98117177, 0.99546413, 0.99372688,\n",
       "       0.83782468, 0.99058354, 0.98999731, 0.99806612, 0.94539834,\n",
       "       0.91799393, 0.83328352, 0.99799107, 0.98056462, 0.98756481,\n",
       "       0.99295958, 0.98843739, 0.97320617, 0.92454965, 0.99191086,\n",
       "       0.99102459, 0.99035048, 0.99535639, 0.99685234, 0.97000734,\n",
       "       0.95366294, 0.9611505 , 0.99809555, 0.99958853, 0.96571519,\n",
       "       0.9913773 , 0.99743117, 0.99929492, 0.93479668, 0.97449032,\n",
       "       0.99372334, 0.93055439, 0.99821734, 0.99548264, 0.86344472,\n",
       "       0.9272876 , 0.79850624, 0.85124911, 0.85676595, 0.93701164,\n",
       "       0.88613829, 0.93366364, 0.96381893, 0.99601513, 0.9633588 ,\n",
       "       0.99283691, 0.92871732, 0.88830337, 0.98577223, 0.99412969,\n",
       "       0.98019928, 0.90485517, 0.97598043, 0.98615649, 0.97862512,\n",
       "       0.99566936, 0.99085227, 0.97755339, 0.90931085, 0.98167772,\n",
       "       0.96983581, 0.83480708, 0.880142  , 0.9657484 , 0.97903573,\n",
       "       0.95385148, 0.89022362, 0.9432125 , 0.94843819, 0.94704225,\n",
       "       0.97583187, 0.99483086, 0.92202179, 0.92928674, 0.99700699,\n",
       "       0.86245912, 0.94747526, 0.98345756, 0.95189405, 0.80802654,\n",
       "       0.92256101, 0.93864948, 0.97937521, 0.90314565, 0.83730892,\n",
       "       0.8216067 , 0.99377905, 0.9723933 , 0.91344517, 0.94527119,\n",
       "       0.99860323, 0.99385589, 0.89199382, 0.97844799, 0.97363039,\n",
       "       0.97802605, 0.92349321, 0.98873624, 0.96692477, 0.86339084,\n",
       "       0.8484483 , 0.99863363, 0.99116145, 0.98632192, 0.99680844,\n",
       "       0.98701091, 0.92868677, 0.92490702, 0.88454144, 0.89169007,\n",
       "       0.92881826, 0.88405549, 0.95972333, 0.99208707, 0.95236401,\n",
       "       0.98961346, 0.99595326, 0.97092382, 0.99655401, 0.96278849,\n",
       "       0.94939731, 0.96182117, 0.96793945, 0.99668693, 0.99543191,\n",
       "       0.99569999, 0.99931508, 0.98316735, 0.9735001 , 0.97488579,\n",
       "       0.97077464, 0.98848873, 0.89791654, 0.78594334, 0.98259573,\n",
       "       0.97587814, 0.99349456, 0.85175686, 0.97406074, 0.95722463,\n",
       "       0.99380647, 0.87670961, 0.86991703, 0.99135193, 0.94586835,\n",
       "       0.99327345, 0.99949339, 0.97097449, 0.98005071, 0.95750319,\n",
       "       0.99222964, 0.97191599, 0.99494976, 0.9951801 , 0.99930679,\n",
       "       0.98508231, 0.98805396, 0.99899324, 0.99771496, 0.99973832,\n",
       "       0.99883751, 0.97313037, 0.99841503, 0.99790033, 0.99782014,\n",
       "       0.97094458, 0.99961075, 0.99689435, 0.99052772, 0.99035659,\n",
       "       0.9690901 , 0.96766968, 0.97922658, 0.99977662, 0.99477407,\n",
       "       0.98285941, 0.97344912, 0.98918125, 0.99236575, 0.99374181,\n",
       "       0.99808787, 0.99646521, 0.99476262, 0.99178779, 0.88766953,\n",
       "       0.99753461, 0.98565676, 0.97846242, 0.93676849, 0.99418698,\n",
       "       0.99570341, 0.99872041, 0.99504203, 0.86677722, 0.99522137,\n",
       "       0.79955186, 0.99873561, 0.99945717, 0.99504121, 0.99853654,\n",
       "       0.96156697, 0.99446898, 0.99018377, 0.98336116, 0.98978301,\n",
       "       0.99774472, 0.99557657, 0.99667592, 0.99906678, 0.99863085,\n",
       "       0.99672974, 0.95845213, 0.96618313, 0.99881092, 0.99636251,\n",
       "       0.99811883, 0.98823737, 0.98529228, 0.99799187, 0.99788226,\n",
       "       0.97616191, 0.85047136, 0.99425924, 0.98807721, 0.99439655,\n",
       "       0.99370251, 0.99038599, 0.99892036, 0.99564398, 0.9971938 ,\n",
       "       0.99912738, 0.99822834, 0.99907993, 0.99973441, 0.99079524,\n",
       "       0.98451139, 0.98798237, 0.99586163, 0.989534  , 0.99359542,\n",
       "       0.99299611, 0.99224226, 0.99869933, 0.98438054, 0.99961801,\n",
       "       0.8446005 , 0.99897183, 0.9987616 , 0.9898013 , 0.99741312,\n",
       "       0.99149824, 0.9986058 , 0.99885325, 0.991855  , 0.99211382,\n",
       "       0.9904608 , 0.98919061, 0.99245648, 0.99938715, 0.99598879,\n",
       "       0.99515586, 0.99792559, 0.98969846, 0.98839205, 0.99599453,\n",
       "       0.99252558, 0.99865026, 0.9898094 , 0.99914454, 0.99327858,\n",
       "       0.87647879, 0.99239231, 0.99901047, 0.90282993, 0.99629594,\n",
       "       0.99826894, 0.99775493, 0.9823671 , 0.95456731, 0.98221297,\n",
       "       0.94495131, 0.99857522, 0.90727261, 0.99958587, 0.97966592,\n",
       "       0.93440989, 0.99793609, 0.99908043, 0.99496994, 0.99888   ,\n",
       "       0.99451956, 0.97781149, 0.99553563, 0.97924134, 0.99690542,\n",
       "       0.9965036 , 0.98208658, 0.96023873, 0.98922556, 0.98975341,\n",
       "       0.99749596, 0.97138264, 0.98014626, 0.93502717, 0.99850591,\n",
       "       0.96946068, 0.98858115, 0.94945892, 0.96387056, 0.92553416,\n",
       "       0.99165122, 0.94962352, 0.99623708, 0.98159605, 0.91034113,\n",
       "       0.99339272, 0.99765929, 0.98548168, 0.9562411 , 0.99484353,\n",
       "       0.94778815, 0.96283951, 0.99124786, 0.99639446, 0.94836124,\n",
       "       0.99084932, 0.96976937, 0.99916523, 0.99488719, 0.99140241,\n",
       "       0.99885154, 0.99233227, 0.99650937, 0.99910248, 0.99348328,\n",
       "       0.99154695, 0.95480493, 0.98032226, 0.99995202, 0.97236215,\n",
       "       0.99935329, 0.99799975, 0.98235595, 0.97774413, 0.99491504,\n",
       "       0.99952165, 0.99563996, 0.99502932, 0.96846833, 0.9820707 ,\n",
       "       0.99575683, 0.96483576, 0.88118842, 0.99727255, 0.98172577,\n",
       "       0.99290046, 0.8853451 , 0.94375876, 0.98254811, 0.99267352,\n",
       "       0.95901878, 0.994048  , 0.99353672, 0.99993576, 0.99531981,\n",
       "       0.99744947, 0.9936303 , 0.97852248, 0.99937272, 0.99911523,\n",
       "       0.9762502 , 0.99784926, 0.96814994, 0.92796029, 0.99292672,\n",
       "       0.98314029, 0.99944909, 0.99948855, 0.99863193, 0.99836445,\n",
       "       0.98405593, 0.99677922, 0.99733131, 0.99933722, 0.99875414,\n",
       "       0.79719586, 0.99669873, 0.82225688, 0.99924398, 0.99928923,\n",
       "       0.87564428, 0.99046652, 0.99798187, 0.99868138, 0.80747635,\n",
       "       0.9941577 , 0.98130128, 0.99860689, 0.99779539, 0.99429126,\n",
       "       0.9939972 , 0.98928788, 0.99800025, 0.99438988, 0.99974741,\n",
       "       0.96834067, 0.86873003, 0.99746832, 0.99734237, 0.99951692,\n",
       "       0.98864794, 0.9948569 , 0.99504191, 0.97426102, 0.92582892,\n",
       "       0.98790765, 0.98158992, 0.9776043 , 0.99994002, 0.99074594,\n",
       "       0.9848587 , 0.98736558, 0.99689025, 0.99794162, 0.98262228,\n",
       "       0.99905582, 0.99852841, 0.94501406, 0.99809562, 0.99698016,\n",
       "       0.80526491, 0.99810806, 0.83208543, 0.9748167 , 0.99909818,\n",
       "       0.98598444, 0.99424288, 0.9972832 , 0.99502726, 0.99495695,\n",
       "       0.96416556, 0.99983412, 0.98087773, 0.9998073 , 0.99202876,\n",
       "       0.99981443, 0.99595393, 0.99612648, 0.99689578, 0.98934974,\n",
       "       0.99442015, 0.99944064, 0.98849417, 0.98869183, 0.99618256,\n",
       "       0.99997884, 0.99929419, 0.97584091, 0.97116786, 0.99570848,\n",
       "       0.98919303, 0.99377764, 0.99498683, 0.99714163, 0.9583802 ,\n",
       "       0.99125145, 0.99747107, 0.9911061 , 0.99774296, 0.99350303,\n",
       "       0.996085  , 0.98396149, 0.97841932, 0.98256954, 0.99707378,\n",
       "       0.97171897, 0.99987265, 0.94133588, 0.99957569, 0.98913482,\n",
       "       0.97457806, 0.99412035, 0.99890475, 0.96965628, 0.96977376,\n",
       "       0.99896709, 0.99595478, 0.99741457, 0.99684393, 0.99985289,\n",
       "       0.99929105, 0.99567621, 0.96091829, 0.99852067, 0.99012866,\n",
       "       0.91838304, 0.99434334, 0.89613303, 0.99658415, 0.99941564,\n",
       "       0.98993679, 0.99925456, 0.98732886, 0.99005478, 0.96888894,\n",
       "       0.99308001, 0.99807942, 0.99809454, 0.99669607, 0.9994347 ,\n",
       "       0.99021245, 0.97420311, 0.99702767, 0.96517712, 0.99792278,\n",
       "       0.99542772, 0.99879904, 0.99445217, 0.99738938, 0.93009211,\n",
       "       0.98597171, 0.99879213, 0.99482909, 0.99942838, 0.92331279,\n",
       "       0.97304581, 0.95246806, 0.99676308, 0.99591854, 0.99996473,\n",
       "       0.91805271, 0.96110469, 0.99171745, 0.99955619, 0.99412418,\n",
       "       0.99980019, 0.97979926, 0.99905219, 0.999136  , 0.99983786,\n",
       "       0.97799352, 0.99210277, 0.99970837, 0.99949348, 0.99944312,\n",
       "       0.89298857, 0.99046666, 0.92787412, 0.98166054, 0.99936097,\n",
       "       0.98019808, 0.98562663, 0.98515401, 0.99904273, 0.99686567,\n",
       "       0.99960525, 0.99991076, 0.98692732, 0.99991423, 0.99611902,\n",
       "       0.89904233, 0.96727439, 0.99581639, 0.99931921, 0.99825155,\n",
       "       0.95902151, 0.9911074 , 0.94256569, 0.98659108, 0.99928714,\n",
       "       0.9113083 , 0.99691133, 0.99366721, 0.98928027, 0.98739298,\n",
       "       0.99957506, 0.95843332, 0.86412092, 0.96731752, 0.99962172,\n",
       "       0.97246415, 0.99896101, 0.99240113, 0.99901002, 0.97938868,\n",
       "       0.99813377, 0.99563448, 0.99876914, 0.89099811, 0.99810496,\n",
       "       0.99938401, 0.99288589, 0.96376467, 0.99725798, 0.99841313,\n",
       "       0.97353116, 0.99817382, 0.99938498, 0.96772865, 0.95413203,\n",
       "       0.88209375, 0.99538743, 0.99454618, 0.99462123, 0.96606213,\n",
       "       0.99873787, 0.99957719, 0.99809161, 0.95902792, 0.99758738,\n",
       "       0.99912442, 0.9877585 , 0.98518202, 0.99941431, 0.99566797,\n",
       "       0.98834484, 0.94048923, 0.9747308 , 0.80949248, 0.92968657,\n",
       "       0.98939398, 0.99805395, 0.98865771, 0.98914229, 0.99855285,\n",
       "       0.98605659, 0.97143429, 0.99810568, 0.99519709, 0.99660949,\n",
       "       0.99970187, 0.9647103 , 0.97142613, 0.83211579, 0.99840638,\n",
       "       0.97745073, 0.99761052, 0.99698996, 0.99915614, 0.99188869,\n",
       "       0.97115225, 0.98030328, 0.99474513, 0.99977833, 0.99997638,\n",
       "       0.82344679, 0.99914068, 0.99417647, 0.99605146, 0.99872162,\n",
       "       0.99931471, 0.99573805, 0.99765776, 0.99842852, 0.99264473,\n",
       "       0.99932452, 0.99877142, 0.99679661, 0.99476036, 0.99740434,\n",
       "       0.98669374, 0.99289407, 0.99170976, 0.83493194, 0.99701443,\n",
       "       0.99628651, 0.9922835 , 0.98178907, 0.99916663, 0.99199985,\n",
       "       0.99857185, 0.99605296, 0.95441049, 0.99763336, 0.99758776,\n",
       "       0.99781451, 0.96795231, 0.99319637, 0.98906898, 0.98922029,\n",
       "       0.99825511, 0.93079447, 0.98987303, 0.93468282, 0.99153808,\n",
       "       0.99486634, 0.92346582, 0.97995708, 0.9990719 , 0.98074978,\n",
       "       0.99171251, 0.86329618, 0.99929976, 0.99588374, 0.98088875,\n",
       "       0.98991231, 0.98831794, 0.9640921 , 0.99550038, 0.95211688,\n",
       "       0.81168617, 0.96209713, 0.8697721 , 0.95929137, 0.95597435,\n",
       "       0.99592878, 0.96668559, 0.98824035, 0.97955134, 0.99512745,\n",
       "       0.95146032, 0.9999041 , 0.99619905, 0.99912686, 0.98449995,\n",
       "       0.9944879 , 0.94637052, 0.97813613, 0.99759959, 0.84928218,\n",
       "       0.99924901, 0.99820037, 0.99825536, 0.9989012 , 0.99487789,\n",
       "       0.99023999, 0.94116479, 0.9901015 , 0.98895027, 0.95260647,\n",
       "       0.93825316, 0.79270775, 0.99961388, 0.99582824, 0.81756507,\n",
       "       0.88982021, 0.82337426, 0.99325142, 0.98050921, 0.87245712,\n",
       "       0.99959866, 0.99094532, 0.99216077, 0.99964731, 0.99970529])"
      ]
     },
     "execution_count": 50,
     "metadata": {},
     "output_type": "execute_result"
    }
   ],
   "source": [
    "qhats"
   ]
  },
  {
   "cell_type": "code",
   "execution_count": 68,
   "id": "011f2a12",
   "metadata": {},
   "outputs": [
    {
     "data": {
      "text/plain": [
       "(array([  0.,   0.,   0.,   0.,   0.,   0.,   0.,   0.,   0.,   0.,   0.,\n",
       "          0.,   0.,   0.,   0.,   0.,   0.,   0.,   0.,   0.,   0.,   0.,\n",
       "          0.,   0.,   0.,   0.,   0.,   0.,   0.,   0.,   0.,   0.,   0.,\n",
       "          0.,   0.,   0.,   0.,   0.,   0.,   0.,   0.,   0.,   0.,   0.,\n",
       "          0.,   0.,   0.,   0.,   0.,   0.,   0.,   0.,   0.,   0.,   0.,\n",
       "          0.,   0.,   0.,   0.,   0.,   0.,   0.,   0.,   0.,   0.,   0.,\n",
       "          0.,   0.,   0.,   0.,   0.,   0.,   0.,   0.,   0.,   0.,   0.,\n",
       "          1.,   5.,   8.,   6.,   5.,   9.,   2.,   8.,   8.,   8.,  13.,\n",
       "         14.,   8.,  15.,  23.,  24.,  29.,  34.,  52.,  85., 136., 507.]),\n",
       " array([0.        , 0.01010101, 0.02020202, 0.03030303, 0.04040404,\n",
       "        0.05050505, 0.06060606, 0.07070707, 0.08080808, 0.09090909,\n",
       "        0.1010101 , 0.11111111, 0.12121212, 0.13131313, 0.14141414,\n",
       "        0.15151515, 0.16161616, 0.17171717, 0.18181818, 0.19191919,\n",
       "        0.2020202 , 0.21212121, 0.22222222, 0.23232323, 0.24242424,\n",
       "        0.25252525, 0.26262626, 0.27272727, 0.28282828, 0.29292929,\n",
       "        0.3030303 , 0.31313131, 0.32323232, 0.33333333, 0.34343434,\n",
       "        0.35353535, 0.36363636, 0.37373737, 0.38383838, 0.39393939,\n",
       "        0.4040404 , 0.41414141, 0.42424242, 0.43434343, 0.44444444,\n",
       "        0.45454545, 0.46464646, 0.47474747, 0.48484848, 0.49494949,\n",
       "        0.50505051, 0.51515152, 0.52525253, 0.53535354, 0.54545455,\n",
       "        0.55555556, 0.56565657, 0.57575758, 0.58585859, 0.5959596 ,\n",
       "        0.60606061, 0.61616162, 0.62626263, 0.63636364, 0.64646465,\n",
       "        0.65656566, 0.66666667, 0.67676768, 0.68686869, 0.6969697 ,\n",
       "        0.70707071, 0.71717172, 0.72727273, 0.73737374, 0.74747475,\n",
       "        0.75757576, 0.76767677, 0.77777778, 0.78787879, 0.7979798 ,\n",
       "        0.80808081, 0.81818182, 0.82828283, 0.83838384, 0.84848485,\n",
       "        0.85858586, 0.86868687, 0.87878788, 0.88888889, 0.8989899 ,\n",
       "        0.90909091, 0.91919192, 0.92929293, 0.93939394, 0.94949495,\n",
       "        0.95959596, 0.96969697, 0.97979798, 0.98989899, 1.        ]),\n",
       " <BarContainer object of 99 artists>)"
      ]
     },
     "execution_count": 68,
     "metadata": {},
     "output_type": "execute_result"
    },
    {
     "data": {
      "image/png": "[encoded data removed]",
      "text/plain": [
       "<Figure size 432x288 with 1 Axes>"
      ]
     },
     "metadata": {
      "needs_background": "light"
     },
     "output_type": "display_data"
    }
   ],
   "source": [
    "plt.hist(qhats, bins=np.linspace(0,1,100))"
   ]
  },
  {
   "cell_type": "code",
   "execution_count": 8,
   "id": "356e788f",
   "metadata": {},
   "outputs": [],
   "source": [
    "# Load data \n",
    "softmax_scores = torch.load('/home/eecs/tiffany_ding/code/SimCLRv2-Pytorch/.cache/logits/imagenet_train_subset_softmax.pt', map_location=torch.device('cpu'))\n",
    "softmax_scores = softmax_scores.numpy()\n",
    "labels = torch.load('/home/eecs/tiffany_ding/code/SimCLRv2-Pytorch/.cache/logits/imagenet_train_subset_labels.pt', map_location=torch.device('cpu'))\n",
    "labels = labels.type(torch.LongTensor).numpy()"
   ]
  },
  {
   "cell_type": "code",
   "execution_count": 25,
   "id": "c704f336",
   "metadata": {},
   "outputs": [],
   "source": [
    "scores = 1 - softmax_scores"
   ]
  },
  {
   "cell_type": "code",
   "execution_count": 26,
   "id": "c48ccb67",
   "metadata": {},
   "outputs": [
    {
     "name": "stdout",
     "output_type": "stream",
     "text": [
      "CPU times: user 3.43 s, sys: 2min 1s, total: 2min 4s\n",
      "Wall time: 2min 5s\n"
     ]
    }
   ],
   "source": [
    "%%time\n",
    "# Get split of data not used for calibration\n",
    "_, _, val_scores, val_labels = split_X_and_y(scores, labels, 20, num_classes=1000, seed=0)"
   ]
  },
  {
   "cell_type": "markdown",
   "id": "0439d404",
   "metadata": {},
   "source": [
    "### Evaluate"
   ]
  },
  {
   "cell_type": "code",
   "execution_count": 60,
   "id": "626677b8",
   "metadata": {},
   "outputs": [],
   "source": [
    "preds = create_cb_prediction_sets(val_scores, qhats)\n",
    "# cb_preds = create_cb_prediction_sets(scores, qhats_old)"
   ]
  },
  {
   "cell_type": "code",
   "execution_count": 61,
   "id": "1a8e644a",
   "metadata": {},
   "outputs": [
    {
     "name": "stdout",
     "output_type": "stream",
     "text": [
      "Marginal coverage: 3.88%\n"
     ]
    }
   ],
   "source": [
    "marginal_cov = compute_coverage(val_labels, preds)\n",
    "print(f'Marginal coverage: {cb_marginal_cov*100:.2f}%')"
   ]
  },
  {
   "cell_type": "code",
   "execution_count": 62,
   "id": "f0ef6640",
   "metadata": {},
   "outputs": [],
   "source": [
    "class_specific_cov = compute_class_specific_coverage(val_labels, preds)"
   ]
  },
  {
   "cell_type": "code",
   "execution_count": 63,
   "id": "9fc9b657",
   "metadata": {},
   "outputs": [
    {
     "data": {
      "image/png": "[encoded data removed]",
      "text/plain": [
       "<Figure size 432x288 with 1 Axes>"
      ]
     },
     "metadata": {
      "needs_background": "light"
     },
     "output_type": "display_data"
    }
   ],
   "source": [
    "plt.hist(class_specific_cov, bins=20, label=\"Empirical Bayes class-balanced\", alpha=.3)\n",
    "plt.ylabel('Number of classes', fontsize=14)\n",
    "\n",
    "plt.show()"
   ]
  },
  {
   "cell_type": "code",
   "execution_count": 64,
   "id": "e28aa2a1",
   "metadata": {},
   "outputs": [
    {
     "name": "stdout",
     "output_type": "stream",
     "text": [
      "Number of classes that have less than 80% coverage: 1\n"
     ]
    }
   ],
   "source": [
    "# Compute number of classes that are drastically undercovered (<80%)\n",
    "num_undercovered = np.sum(class_specific_cov < 0.8)\n",
    "print(f'Number of classes that have less than 80% coverage:', num_undercovered)"
   ]
  },
  {
   "cell_type": "code",
   "execution_count": 65,
   "id": "56fdf711",
   "metadata": {},
   "outputs": [
    {
     "name": "stdout",
     "output_type": "stream",
     "text": [
      "\n",
      "Average size of Empirical Bayes conformal set: 10.46\n"
     ]
    }
   ],
   "source": [
    "avg_set_size = compute_avg_set_size(preds)\n",
    "print(f'\\nAverage size of Empirical Bayes conformal set: {avg_set_size:.2f}')"
   ]
  },
  {
   "cell_type": "code",
   "execution_count": 58,
   "id": "5078287f",
   "metadata": {},
   "outputs": [
    {
     "data": {
      "text/plain": [
       "[array([ 73, 311, 312, 784]),\n",
       " array([118, 122, 175, 208, 463, 593, 618, 631, 659, 664, 673, 696, 700,\n",
       "        710, 731, 778, 813, 898, 899, 909, 910, 923, 924, 928, 934, 935,\n",
       "        937, 938, 943, 959, 966, 987, 995, 998]),\n",
       " array([446, 478, 519, 692, 710, 811, 921, 966]),\n",
       " array([12]),\n",
       " array([277, 278]),\n",
       " array([ 73, 122]),\n",
       " array([ 80,  81,  82,  86, 899]),\n",
       " array([435, 618, 673, 700, 731, 794, 804, 813, 861, 896, 897, 999]),\n",
       " array([  3,  66, 171, 173, 224, 405, 421, 463, 488, 497, 499, 557, 593,\n",
       "        618, 631, 632, 664, 673, 696, 698, 700, 701, 709, 710, 718, 733,\n",
       "        737, 756, 784, 792, 794, 797, 811, 813, 836, 838, 868, 876, 879,\n",
       "        885, 893, 899, 904, 908, 910, 913, 919, 928, 968, 973, 975, 998]),\n",
       " array([501, 524, 578, 593, 601, 618, 643, 689, 773, 784, 794, 797, 849,\n",
       "        887, 899, 901])]"
      ]
     },
     "execution_count": 58,
     "metadata": {},
     "output_type": "execute_result"
    }
   ],
   "source": [
    "preds[:10]"
   ]
  },
  {
   "cell_type": "code",
   "execution_count": 59,
   "id": "e203ce91",
   "metadata": {},
   "outputs": [
    {
     "data": {
      "text/plain": [
       "array([311, 121, 478,  12, 278, 122,  81, 861, 879, 887])"
      ]
     },
     "execution_count": 59,
     "metadata": {},
     "output_type": "execute_result"
    }
   ],
   "source": [
    "val_labels[:10]"
   ]
  },
  {
   "cell_type": "code",
   "execution_count": null,
   "id": "6d5cc9ff",
   "metadata": {},
   "outputs": [],
   "source": []
  }
 ],
 "metadata": {
  "kernelspec": {
   "display_name": "env",
   "language": "python",
   "name": "env"
  },
  "language_info": {
   "codemirror_mode": {
    "name": "ipython",
    "version": 3
   },
   "file_extension": ".py",
   "mimetype": "text/x-python",
   "name": "python",
   "nbconvert_exporter": "python",
   "pygments_lexer": "ipython3",
   "version": "3.9.7"
  }
 },
 "nbformat": 4,
 "nbformat_minor": 5
}
