{
 "cells": [
  {
   "cell_type": "markdown",
   "id": "42152839",
   "metadata": {},
   "source": [
    "Currently, we observe that EB-CB does not achieve the correct marginal coverage using the noisy prior. My goal now is to isolate the problem. Is it\n",
    "1. The estimated posterior score distribution is too inaccurate now that I’ve replaced the oracle prior with the noisy prior, AND/OR\n",
    "2. I am taking the incorrect quantile of the posterior score distributions when performing the conformal adjustment?\n",
    "I strongly suspect that it is 1\n",
    "Supporting evidence: Using the oracle prior, it does not matter whether I perform the conformal adjustment using n=1 datapoints or n=10 datapoints \n",
    "n=10: 0.88828 \n",
    "n=1: 0.89453125\n",
    "Since the quantiles are similar, the resulting coverage metrics are similar too\n",
    "But, to test my hunch, I can create a plot of the marginal coverage that results for each quantile between 80% and 99% (using 1% increments). This is what I do in Section 1\n",
    "\n",
    "Most of this code is extracted from `pipeline.ipynb`\n",
    "\n",
    "# Section 1\n",
    "\n",
    "## Load data"
   ]
  },
  {
   "cell_type": "code",
   "execution_count": 53,
   "id": "9fdc3b4f",
   "metadata": {},
   "outputs": [
    {
     "name": "stdout",
     "output_type": "stream",
     "text": [
      "The autoreload extension is already loaded. To reload it, use:\n",
      "  %reload_ext autoreload\n"
     ]
    }
   ],
   "source": [
    "import matplotlib.pyplot as plt\n",
    "import numpy as np\n",
    "import pandas as pd\n",
    "import pickle\n",
    "import torch\n",
    "\n",
    "from scipy import stats\n",
    "from scipy.stats import beta\n",
    "\n",
    "from conformal_utils import *\n",
    "from fit_betas import beta_MoM, beta_variance\n",
    "\n",
    "%load_ext autoreload\n",
    "%autoreload 2"
   ]
  },
  {
   "cell_type": "code",
   "execution_count": 2,
   "id": "2859258e",
   "metadata": {},
   "outputs": [],
   "source": [
    "# Load data \n",
    "softmax_scores = torch.load('/home/eecs/tiffany_ding/code/SimCLRv2-Pytorch/.cache/logits/imagenet_train_subset_softmax.pt', map_location=torch.device('cpu'))\n",
    "softmax_scores = softmax_scores.numpy()\n",
    "labels = torch.load('/home/eecs/tiffany_ding/code/SimCLRv2-Pytorch/.cache/logits/imagenet_train_subset_labels.pt', map_location=torch.device('cpu'))\n",
    "labels = labels.type(torch.LongTensor).numpy()"
   ]
  },
  {
   "cell_type": "code",
   "execution_count": 3,
   "id": "0e7ab5eb",
   "metadata": {},
   "outputs": [
    {
     "name": "stdout",
     "output_type": "stream",
     "text": [
      "CPU times: user 844 ms, sys: 1min 10s, total: 1min 11s\n",
      "Wall time: 1min 12s\n"
     ]
    }
   ],
   "source": [
    "%%time\n",
    "\n",
    "scores_all = 1 - softmax_scores"
   ]
  },
  {
   "cell_type": "code",
   "execution_count": 4,
   "id": "1f341e0a",
   "metadata": {},
   "outputs": [],
   "source": [
    "alpha = .1\n",
    "n_k = 20 \n",
    "n_k_tune = 1\n",
    "num_samples = 10000 # Number of Monte Carlo samples for estimating quantile of posterior score distribution\n",
    "num_classes = 1000 # Number of classes in ImageNet"
   ]
  },
  {
   "cell_type": "code",
   "execution_count": 5,
   "id": "12f83b9c",
   "metadata": {},
   "outputs": [
    {
     "name": "stdout",
     "output_type": "stream",
     "text": [
      "CPU times: user 3.94 s, sys: 1min 35s, total: 1min 39s\n",
      "Wall time: 1min 41s\n"
     ]
    }
   ],
   "source": [
    "%%time\n",
    "\n",
    "# Split into calibration data and validation data\n",
    "calib_scores_all, calib_labels, val_scores_all, val_labels = split_X_and_y(scores_all, labels, n_k + n_k_tune, num_classes=1000, seed=0)\n",
    "\n",
    "# Split calibration into\n",
    "#   1. Data to use for estimating D\n",
    "#   2. Data to use for computing conformal adjustment\n",
    "scores1_all, labels1, scores2_all, labels2 = split_X_and_y(calib_scores_all, calib_labels, n_k, num_classes=1000, seed=0)"
   ]
  },
  {
   "cell_type": "markdown",
   "id": "4e5c8194",
   "metadata": {},
   "source": [
    "## Compute marginal coverage for different quantiles\n",
    "\n",
    "NOTE: We are trying to compute \"ground truth\" coverage, so I use the full validation set"
   ]
  },
  {
   "cell_type": "code",
   "execution_count": 6,
   "id": "569c99e0",
   "metadata": {},
   "outputs": [],
   "source": [
    "cached_samples = np.load('.cache/cached_samples_pipeline.npy')"
   ]
  },
  {
   "cell_type": "code",
   "execution_count": 37,
   "id": "97a826bd",
   "metadata": {},
   "outputs": [
    {
     "name": "stdout",
     "output_type": "stream",
     "text": [
      "Quantile guess || Ground truth marginal coverage || Average set size\n",
      "--------------------------------------------------------------------\n",
      "         0.800 ||                         0.8585 ||             3.32\n",
      "         0.810 ||                         0.8684 ||             3.96\n",
      "         0.820 ||                         0.8781 ||             4.79\n",
      "         0.830 ||                         0.8874 ||             5.87\n",
      "         0.840 ||                         0.8965 ||             7.35\n",
      "         0.850 ||                         0.9052 ||             9.39\n",
      "         0.860 ||                         0.9137 ||            12.07\n",
      "         0.870 ||                         0.9221 ||            15.63\n",
      "         0.880 ||                         0.9303 ||            20.44\n",
      "         0.890 ||                         0.9381 ||            26.92\n",
      "         0.900 ||                         0.9457 ||            35.54\n",
      "         0.910 ||                         0.9530 ||            47.31\n",
      "         0.920 ||                         0.9601 ||            63.29\n",
      "         0.930 ||                         0.9667 ||            85.04\n",
      "         0.940 ||                         0.9727 ||           114.60\n",
      "         0.950 ||                         0.9785 ||           155.77\n",
      "         0.960 ||                         0.9838 ||           212.55\n",
      "         0.970 ||                         0.9886 ||           293.58\n",
      "         0.980 ||                         0.9929 ||           406.43\n",
      "         0.990 ||                         0.9967 ||           573.12\n"
     ]
    }
   ],
   "source": [
    "quantiles = np.arange(0.8, 1, 0.01)\n",
    "marginal_cov = np.zeros(quantiles.shape)\n",
    "avg_set_size = np.zeros(quantiles.shape)\n",
    "\n",
    "print('Quantile guess || Ground truth marginal coverage || Average set size' )\n",
    "print('--------------------------------------------------------------------')\n",
    "for i,quantile_guess in enumerate(quantiles):\n",
    "    \n",
    "    # 1. Get qhats\n",
    "    qhats = [np.quantile(cached_samples[k,:], quantile_guess, interpolation='higher') for k in range(num_classes)]\n",
    "\n",
    "    # 2. Compute coverage using these qhats\n",
    "#     preds = create_cb_prediction_sets(scores2_all, qhats)\n",
    "#     marginal_cov[i] = compute_coverage(labels2, preds)\n",
    "    preds = create_cb_prediction_sets(val_scores_all, qhats)\n",
    "    marginal_cov[i] = compute_coverage(val_labels, preds)\n",
    "    avg_set_size[i] = compute_avg_set_size(preds)\n",
    "    print(f\"{quantile_guess:>14.3f} || {marginal_cov[i]:>30.4f} || {avg_set_size[i]:>16.2f}\")\n",
    "    \n"
   ]
  },
  {
   "cell_type": "markdown",
   "id": "1dedeb1c",
   "metadata": {},
   "source": [
    "It seems like my hunch was correct: Based on this table, we observe that there is no quantile that yields acceptable results. To achieve the desired coverage of 90%, we can take the 85% of the score distribution, but this results in an average set size of `9.39`, which is too large to be useful (compare this with the oracle prior and baseline results:\n",
    "\n",
    "`[EB-CB] Average size of prediction set: 2.74\n",
    "[Vanilla] Average size of prediction set: 2.00\n",
    "[Naive-CB] Average size of prediction set: 5.83`)"
   ]
  },
  {
   "cell_type": "code",
   "execution_count": 45,
   "id": "54903233",
   "metadata": {},
   "outputs": [],
   "source": [
    "# Save\n",
    "np.save('.cache/debugging/noisy_prior_marginal_cov.npy', marginal_cov)\n",
    "np.save('.cache/debugging/noisy_prior_avg_set_size.npy', avg_set_size)"
   ]
  },
  {
   "cell_type": "code",
   "execution_count": 42,
   "id": "c3898717",
   "metadata": {},
   "outputs": [
    {
     "data": {
      "image/png": "[encoded data removed]",
      "text/plain": [
       "<Figure size 432x288 with 1 Axes>"
      ]
     },
     "metadata": {
      "needs_background": "light"
     },
     "output_type": "display_data"
    }
   ],
   "source": [
    "plt.plot(quantiles, marginal_cov, '-o')\n",
    "plt.xlabel('Quantile')\n",
    "plt.ylabel('Ground truth marginal coverage')\n",
    "plt.show()"
   ]
  },
  {
   "cell_type": "code",
   "execution_count": 43,
   "id": "c3842fac",
   "metadata": {},
   "outputs": [
    {
     "data": {
      "image/png": "[encoded data removed]",
      "text/plain": [
       "<Figure size 432x288 with 1 Axes>"
      ]
     },
     "metadata": {
      "needs_background": "light"
     },
     "output_type": "display_data"
    }
   ],
   "source": [
    "plt.plot(quantiles, avg_set_size, '-o')\n",
    "plt.xlabel('Quantile')\n",
    "plt.ylabel('Average set size')\n",
    "plt.show()"
   ]
  },
  {
   "cell_type": "markdown",
   "id": "de2f6873",
   "metadata": {},
   "source": [
    "# Section 2\n",
    "\n",
    "Try using `deconvolveR` to get better estimate of prior. We compare to the oracle prior."
   ]
  },
  {
   "cell_type": "code",
   "execution_count": 50,
   "id": "dab38f03",
   "metadata": {},
   "outputs": [],
   "source": [
    "xmin, xmax = 0, 1.6\n",
    "ymin, ymax = 0, 2"
   ]
  },
  {
   "cell_type": "code",
   "execution_count": 51,
   "id": "61bc0d38",
   "metadata": {},
   "outputs": [
    {
     "data": {
      "image/png": "[encoded data removed]",
      "text/plain": [
       "<Figure size 360x360 with 2 Axes>"
      ]
     },
     "metadata": {
      "needs_background": "light"
     },
     "output_type": "display_data"
    }
   ],
   "source": [
    "# Load in oracle prior\n",
    "path = '.cache/kde.pkl'\n",
    "with open(path, 'rb') as f:\n",
    "    oracle = pickle.load(f)\n",
    "\n",
    "# Visualize\n",
    "X, Y = np.mgrid[xmin:xmax:100j, ymin:ymax:100j]\n",
    "positions = np.vstack([X.ravel(), Y.ravel()])\n",
    "Z = np.reshape(oracle(positions).T, X.shape)\n",
    "\n",
    "fig, ax = plt.subplots(figsize=(5,5))\n",
    "im = ax.imshow(np.rot90(Z), \n",
    "               vmin=0, vmax=10, \n",
    "               cmap=plt.cm.gist_earth_r, extent=[xmin, xmax, ymin, ymax])\n",
    "ax.set_xlabel('$\\\\alpha_k$')\n",
    "ax.set_ylabel('$\\\\beta_k$')\n",
    "ax.set_title('Oracle KDE of Beta distribution parameters')\n",
    "fig.colorbar(im)\n",
    "plt.show()"
   ]
  },
  {
   "cell_type": "code",
   "execution_count": 65,
   "id": "08e24a08",
   "metadata": {},
   "outputs": [],
   "source": [
    "# Load in deconvolved noisy priors\n",
    "deconv_alphas = pd.read_csv('~/code/empirical-bayes-conformal/.cache/deconvolved_alphas.csv')\n",
    "deconv_betas = pd.read_csv('~/code/empirical-bayes-conformal/.cache/deconvolved_betas.csv')"
   ]
  },
  {
   "cell_type": "code",
   "execution_count": 61,
   "id": "c20f0d06",
   "metadata": {},
   "outputs": [
    {
     "data": {
      "text/html": [
       "<div>\n",
       "<style scoped>\n",
       "    .dataframe tbody tr th:only-of-type {\n",
       "        vertical-align: middle;\n",
       "    }\n",
       "\n",
       "    .dataframe tbody tr th {\n",
       "        vertical-align: top;\n",
       "    }\n",
       "\n",
       "    .dataframe thead th {\n",
       "        text-align: right;\n",
       "    }\n",
       "</style>\n",
       "<table border=\"1\" class=\"dataframe\">\n",
       "  <thead>\n",
       "    <tr style=\"text-align: right;\">\n",
       "      <th></th>\n",
       "      <th>density</th>\n",
       "    </tr>\n",
       "    <tr>\n",
       "      <th>support_pts</th>\n",
       "      <th></th>\n",
       "    </tr>\n",
       "  </thead>\n",
       "  <tbody>\n",
       "    <tr>\n",
       "      <th>0.00</th>\n",
       "      <td>0.000265</td>\n",
       "    </tr>\n",
       "    <tr>\n",
       "      <th>0.04</th>\n",
       "      <td>0.000771</td>\n",
       "    </tr>\n",
       "    <tr>\n",
       "      <th>0.08</th>\n",
       "      <td>0.002188</td>\n",
       "    </tr>\n",
       "    <tr>\n",
       "      <th>0.12</th>\n",
       "      <td>0.005897</td>\n",
       "    </tr>\n",
       "    <tr>\n",
       "      <th>0.16</th>\n",
       "      <td>0.014717</td>\n",
       "    </tr>\n",
       "    <tr>\n",
       "      <th>...</th>\n",
       "      <td>...</td>\n",
       "    </tr>\n",
       "    <tr>\n",
       "      <th>3.84</th>\n",
       "      <td>0.000092</td>\n",
       "    </tr>\n",
       "    <tr>\n",
       "      <th>3.88</th>\n",
       "      <td>0.000095</td>\n",
       "    </tr>\n",
       "    <tr>\n",
       "      <th>3.92</th>\n",
       "      <td>0.000098</td>\n",
       "    </tr>\n",
       "    <tr>\n",
       "      <th>3.96</th>\n",
       "      <td>0.000102</td>\n",
       "    </tr>\n",
       "    <tr>\n",
       "      <th>4.00</th>\n",
       "      <td>0.000106</td>\n",
       "    </tr>\n",
       "  </tbody>\n",
       "</table>\n",
       "<p>101 rows × 1 columns</p>\n",
       "</div>"
      ],
      "text/plain": [
       "              density\n",
       "support_pts          \n",
       "0.00         0.000265\n",
       "0.04         0.000771\n",
       "0.08         0.002188\n",
       "0.12         0.005897\n",
       "0.16         0.014717\n",
       "...               ...\n",
       "3.84         0.000092\n",
       "3.88         0.000095\n",
       "3.92         0.000098\n",
       "3.96         0.000102\n",
       "4.00         0.000106\n",
       "\n",
       "[101 rows x 1 columns]"
      ]
     },
     "execution_count": 61,
     "metadata": {},
     "output_type": "execute_result"
    }
   ],
   "source": [
    "alphas_dict = []"
   ]
  },
  {
   "cell_type": "code",
   "execution_count": 67,
   "id": "b549c541",
   "metadata": {},
   "outputs": [],
   "source": [
    "alphas, betas = np.meshgrid(deconv_alphas['density'], deconv_betas['density'])"
   ]
  },
  {
   "cell_type": "code",
   "execution_count": 71,
   "id": "f3b37069",
   "metadata": {},
   "outputs": [],
   "source": [
    "product_density = alphas * betas"
   ]
  },
  {
   "cell_type": "code",
   "execution_count": 81,
   "id": "dd92c150",
   "metadata": {},
   "outputs": [
    {
     "data": {
      "image/png": "[encoded data removed]",
      "text/plain": [
       "<Figure size 360x360 with 2 Axes>"
      ]
     },
     "metadata": {
      "needs_background": "light"
     },
     "output_type": "display_data"
    }
   ],
   "source": [
    "fig, ax = plt.subplots(figsize=(5,5))\n",
    "im = ax.imshow(np.rot90(product_density), \n",
    "#                vmin=0, vmax=10, \n",
    "               cmap=plt.cm.gist_earth_r, extent=[0, 4, 0, 4])\n",
    "ax.set_xlabel('$\\\\alpha_k$')\n",
    "ax.set_ylabel('$\\\\beta_k$')\n",
    "ax.set_title('Deconvolved distribution')\n",
    "fig.colorbar(im)\n",
    "plt.show()"
   ]
  },
  {
   "cell_type": "code",
   "execution_count": 75,
   "id": "3073f87d",
   "metadata": {},
   "outputs": [],
   "source": [
    "ax.imshow(np.rot90(product_density))\n",
    "plt.show()"
   ]
  },
  {
   "cell_type": "code",
   "execution_count": 79,
   "id": "890289f9",
   "metadata": {},
   "outputs": [
    {
     "data": {
      "text/plain": [
       "(101, 101)"
      ]
     },
     "execution_count": 79,
     "metadata": {},
     "output_type": "execute_result"
    }
   ],
   "source": [
    "product_density.shape"
   ]
  },
  {
   "cell_type": "code",
   "execution_count": 82,
   "id": "07bbc314",
   "metadata": {},
   "outputs": [
    {
     "data": {
      "text/plain": [
       "2957.84179740363"
      ]
     },
     "execution_count": 82,
     "metadata": {},
     "output_type": "execute_result"
    }
   ],
   "source": [
    "Z.sum()"
   ]
  },
  {
   "cell_type": "code",
   "execution_count": null,
   "id": "f8765bf0",
   "metadata": {},
   "outputs": [],
   "source": []
  }
 ],
 "metadata": {
  "kernelspec": {
   "display_name": "env",
   "language": "python",
   "name": "env"
  },
  "language_info": {
   "codemirror_mode": {
    "name": "ipython",
    "version": 3
   },
   "file_extension": ".py",
   "mimetype": "text/x-python",
   "name": "python",
   "nbconvert_exporter": "python",
   "pygments_lexer": "ipython3",
   "version": "3.9.7"
  }
 },
 "nbformat": 4,
 "nbformat_minor": 5
}
