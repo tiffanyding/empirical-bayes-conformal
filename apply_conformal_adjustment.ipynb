{
 "cells": [
  {
   "cell_type": "code",
   "execution_count": 1,
   "id": "d6330465",
   "metadata": {},
   "outputs": [],
   "source": [
    "import matplotlib.pyplot as plt\n",
    "import numpy as np\n",
    "import torch\n",
    "\n",
    "from conformal_utils import *\n",
    "\n",
    "%load_ext autoreload\n",
    "%autoreload 2"
   ]
  },
  {
   "cell_type": "markdown",
   "id": "e7601a43",
   "metadata": {},
   "source": [
    "Run this notebook after running `get_posterior_quantiles_oracle.{ipynb, py}`\n",
    "\n",
    "# Load data"
   ]
  },
  {
   "cell_type": "code",
   "execution_count": 2,
   "id": "e100fd92",
   "metadata": {},
   "outputs": [],
   "source": [
    "# Load data \n",
    "softmax_scores = torch.load('/home/eecs/tiffany_ding/code/SimCLRv2-Pytorch/.cache/logits/imagenet_train_subset_softmax.pt', map_location=torch.device('cpu'))\n",
    "softmax_scores = softmax_scores.numpy()\n",
    "labels = torch.load('/home/eecs/tiffany_ding/code/SimCLRv2-Pytorch/.cache/logits/imagenet_train_subset_labels.pt', map_location=torch.device('cpu'))\n",
    "labels = labels.type(torch.LongTensor).numpy()"
   ]
  },
  {
   "cell_type": "code",
   "execution_count": 3,
   "id": "656b527e",
   "metadata": {},
   "outputs": [],
   "source": [
    "scores = 1 - softmax_scores"
   ]
  },
  {
   "cell_type": "code",
   "execution_count": 4,
   "id": "387135f3",
   "metadata": {},
   "outputs": [],
   "source": [
    "# Get split of data not used for calibration\n",
    "_, _, unused_scores, unused_labels = split_X_and_y(scores, labels, 20, num_classes=1000, seed=0)"
   ]
  },
  {
   "cell_type": "code",
   "execution_count": 5,
   "id": "e51773dc",
   "metadata": {},
   "outputs": [],
   "source": [
    "# Split unused data into \n",
    "# 1. Data for estimating conformal adjustment and\n",
    "# 2. Data for computing coverage\n",
    "\n",
    "# Select 10 examples per class (10,000 total examples) for 1. and leave the rest for 2. \n",
    "scores1, labels1, scores2, labels2 = split_X_and_y(unused_scores, unused_labels, 10, num_classes=1000, seed=0)"
   ]
  },
  {
   "cell_type": "markdown",
   "id": "96bcded7",
   "metadata": {},
   "source": [
    "### Method 1: Adjust which quantile we take of the posterior distr.\n",
    "\n",
    "We want to find $\\tilde{\\alpha}$ such that the $(1-\\tilde{\\alpha})\\%$-quantile of the posterior score distribution achieves marginal coverage of $1-\\alpha$"
   ]
  },
  {
   "cell_type": "code",
   "execution_count": 6,
   "id": "ded86d63",
   "metadata": {},
   "outputs": [],
   "source": [
    "cached_samples = np.load('.cache/cached_samples_06-10-22.npy')"
   ]
  },
  {
   "cell_type": "code",
   "execution_count": 7,
   "id": "ad9fcf5f",
   "metadata": {},
   "outputs": [
    {
     "name": "stdout",
     "output_type": "stream",
     "text": [
      "\n",
      "Current quantile guess: 0.9000\n",
      "Marginal coverage: 0.9050\n",
      "Search range: [0.85, 0.9]\n",
      "\n",
      "Current quantile guess: 0.8750\n",
      "Marginal coverage: 0.8868\n",
      "Search range: [0.875, 0.9]\n",
      "\n",
      "Current quantile guess: 0.8875\n",
      "Marginal coverage: 0.8971\n",
      "Search range: [0.8875, 0.9]\n",
      "\n",
      "Current quantile guess: 0.8938\n",
      "Marginal coverage: 0.9008\n",
      "Search range: [0.8875, 0.89375]\n",
      "\n",
      "Current quantile guess: 0.8906\n",
      "Marginal coverage: 0.8991\n",
      "Search range: [0.890625, 0.89375]\n",
      "\n",
      "Current quantile guess: 0.8922\n",
      "Marginal coverage: 0.8996\n",
      "Search range: [0.8921875, 0.89375]\n",
      "\n",
      "FINAL QUANTILE: 0.8921875\n"
     ]
    }
   ],
   "source": [
    "alpha = 0.1\n",
    "num_classes = 1000\n",
    "\n",
    "# Restrict search between (1 - alpha) +/- 0.5 to start\n",
    "quantile_min = (1 - alpha) - .05\n",
    "quantile_max = (1 - alpha) + .05\n",
    "\n",
    "# ===== Perform binary search =====\n",
    "# Convergence criteria: Either (1) marginal coverage is within tol of desired or (2)\n",
    "# quantile_min and quantile_max differ by less than .001, so there is no need to try \n",
    "# to get a more precise estimate\n",
    "tol = 0.0005\n",
    "\n",
    "marginal_coverage = 0\n",
    "while np.abs(marginal_coverage - (1-alpha)) > tol:\n",
    "    \n",
    "    quantile_guess = (quantile_min +  quantile_max) / 2\n",
    "    print(f\"\\nCurrent quantile guess: {quantile_guess:.4f}\")\n",
    "    \n",
    "    # 1. Get qhats_k\n",
    "    qhats = [np.quantile(cached_samples[k,:], quantile_guess, interpolation='higher') for k in range(num_classes)]\n",
    "    \n",
    "    # 2. Compute coverage using these qhats\n",
    "    preds = create_cb_prediction_sets(scores1, qhats)\n",
    "    marginal_coverage = compute_coverage(labels1, preds)\n",
    "    print(f\"Marginal coverage: {marginal_coverage:.4f}\")\n",
    "    \n",
    "    if marginal_coverage > 1 - alpha:\n",
    "        quantile_max = quantile_guess\n",
    "    else:\n",
    "        quantile_min = quantile_guess\n",
    "    print(f\"Search range: [{quantile_min}, {quantile_max}]\")\n",
    "        \n",
    "    if quantile_max - quantile_min < .0001:\n",
    "        quantile_guess = quantile_max # Conservative estimate, which ensures coverage\n",
    "        print(\"Adequate precision reached; stopping early.\")\n",
    "        break\n",
    "\n",
    "print(\"\\nFINAL QUANTILE:\", quantile_guess)"
   ]
  },
  {
   "cell_type": "markdown",
   "id": "20c38488",
   "metadata": {},
   "source": [
    "#### Save qhats obtained by getting the `quantile_guess` quantile of the posterior score distribution"
   ]
  },
  {
   "cell_type": "code",
   "execution_count": 8,
   "id": "99071476",
   "metadata": {},
   "outputs": [
    {
     "name": "stdout",
     "output_type": "stream",
     "text": [
      "Computing the 89.219% quantile of the posterior score distribution...\n",
      "Saved conformalized qhats to .cache/conformalized_qhats.npy\n"
     ]
    }
   ],
   "source": [
    "print(f'Computing the {quantile_guess * 100:.3f}% quantile of the posterior score distribution...')\n",
    "conformalized_qhats = [np.quantile(cached_samples[k,:], quantile_guess, interpolation='higher') for k in range(num_classes)]\n",
    "\n",
    "\n",
    "save_to = '.cache/conformalized_qhats.npy'\n",
    "np.save(save_to, conformalized_qhats)\n",
    "print(f'Saved conformalized qhats to {save_to}')"
   ]
  },
  {
   "cell_type": "markdown",
   "id": "91383f07",
   "metadata": {},
   "source": [
    "### Method 2: Apply additive (or multiplicative) offset to $\\widehat{q}^{EB}$"
   ]
  },
  {
   "cell_type": "code",
   "execution_count": null,
   "id": "211cf7c2",
   "metadata": {},
   "outputs": [],
   "source": [
    "# TODO"
   ]
  }
 ],
 "metadata": {
  "kernelspec": {
   "display_name": "Python 3 (ipykernel)",
   "language": "python",
   "name": "python3"
  },
  "language_info": {
   "codemirror_mode": {
    "name": "ipython",
    "version": 3
   },
   "file_extension": ".py",
   "mimetype": "text/x-python",
   "name": "python",
   "nbconvert_exporter": "python",
   "pygments_lexer": "ipython3",
   "version": "3.9.7"
  }
 },
 "nbformat": 4,
 "nbformat_minor": 5
}
